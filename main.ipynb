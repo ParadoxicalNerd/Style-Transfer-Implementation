{
 "cells": [
  {
   "cell_type": "code",
   "execution_count": 258,
   "metadata": {
    "colab": {},
    "colab_type": "code",
    "executionInfo": {
     "elapsed": 1810,
     "status": "ok",
     "timestamp": 1592492060089,
     "user": {
      "displayName": "Pankaj Meghani",
      "photoUrl": "",
      "userId": "07472269631754317086"
     },
     "user_tz": -330
    },
    "id": "_HjD7THGxXdR"
   },
   "outputs": [],
   "source": [
    "import torch\n",
    "import torch.nn as nn\n",
    "import torchvision.transforms as transforms\n",
    "import torchvision.models as models\n",
    "\n",
    "from PIL import Image\n",
    "import matplotlib.pyplot as plt\n",
    "import numpy as nps\n",
    "\n",
    "from copy import deepcopy\n",
    "from tqdm.notebook import tqdm\n",
    "from time import sleep\n",
    "\n",
    "import requests"
   ]
  },
  {
   "cell_type": "code",
   "execution_count": null,
   "metadata": {
    "colab": {
     "base_uri": "https://localhost:8080/",
     "height": 36
    },
    "colab_type": "code",
    "executionInfo": {
     "elapsed": 2517,
     "status": "ok",
     "timestamp": 1592484707287,
     "user": {
      "displayName": "Pankaj Meghani",
      "photoUrl": "",
      "userId": "07472269631754317086"
     },
     "user_tz": -330
    },
    "id": "4XX5kKdkxfL1",
    "outputId": "d235cdd8-720b-4ebc-8ed0-95c83e804515"
   },
   "outputs": [
    {
     "data": {
      "text/plain": [
       "<torch._C.Generator at 0x7fe047a604f0>"
      ]
     },
     "execution_count": 40,
     "metadata": {
      "tags": []
     },
     "output_type": "execute_result"
    }
   ],
   "source": [
    "%matplotlib inline\n",
    "np.random.seed(0)\n",
    "torch.manual_seed(0)"
   ]
  },
  {
   "cell_type": "code",
   "execution_count": null,
   "metadata": {
    "colab": {},
    "colab_type": "code",
    "id": "x2fPIXg8xoYR"
   },
   "outputs": [],
   "source": [
    "device = torch.device('cuda' if torch.cuda.is_available() else 'cpu')"
   ]
  },
  {
   "cell_type": "code",
   "execution_count": 267,
   "metadata": {
    "colab": {},
    "colab_type": "code",
    "executionInfo": {
     "elapsed": 2504,
     "status": "ok",
     "timestamp": 1592492240305,
     "user": {
      "displayName": "Pankaj Meghani",
      "photoUrl": "",
      "userId": "07472269631754317086"
     },
     "user_tz": -330
    },
    "id": "ArZmVKw1xqZx"
   },
   "outputs": [],
   "source": [
    "content_path='content.jpg'\n",
    "style_path='style.jpg'\n",
    "\n",
    "transformer=transforms.Compose([\n",
    "                                transforms.Resize(512),\n",
    "                                transforms.CenterCrop(512),\n",
    "                                transforms.ToTensor(),\n",
    "                                transforms.Normalize([0.485, 0.456, 0.406],\n",
    "                                                    [0.229, 0.224, 0.225])\n",
    "                            ])\n",
    "def image_loader(image_path):\n",
    "    image=Image.open(image_path)\n",
    "    image=transformer(image).unsqueeze(0)\n",
    "    return image.to(device)\n",
    "\n",
    "content_image=image_loader(content_path)\n",
    "style_image=image_loader(style_path)"
   ]
  },
  {
   "cell_type": "code",
   "execution_count": 268,
   "metadata": {
    "colab": {},
    "colab_type": "code",
    "executionInfo": {
     "elapsed": 3287,
     "status": "ok",
     "timestamp": 1592492241102,
     "user": {
      "displayName": "Pankaj Meghani",
      "photoUrl": "",
      "userId": "07472269631754317086"
     },
     "user_tz": -330
    },
    "id": "d26OkjbExxpp"
   },
   "outputs": [],
   "source": [
    "model = models.vgg19(pretrained=True).features\n",
    "\n",
    "for p in model.parameters():\n",
    "    p.requires_grad = False\n",
    "    \n",
    "model=model.to(device)"
   ]
  },
  {
   "cell_type": "code",
   "execution_count": 269,
   "metadata": {
    "colab": {},
    "colab_type": "code",
    "executionInfo": {
     "elapsed": 3281,
     "status": "ok",
     "timestamp": 1592492241103,
     "user": {
      "displayName": "Pankaj Meghani",
      "photoUrl": "",
      "userId": "07472269631754317086"
     },
     "user_tz": -330
    },
    "id": "Uit5YlYtB9GC"
   },
   "outputs": [],
   "source": [
    "layers = {\n",
    "        '0' : 'conv1_1',\n",
    "        '5' : 'conv2_1',\n",
    "        '10': 'conv3_1',\n",
    "        '19': 'conv4_1',\n",
    "        '21': 'conv4_2',\n",
    "        '28': 'conv5_1'\n",
    "    }\n",
    "\n",
    "style_weights = {\n",
    "        \"conv1_1\" : 1.0, \n",
    "        \"conv2_1\" : 1.0,\n",
    "        \"conv3_1\" : 1.0,\n",
    "        \"conv4_1\" : 1.0,\n",
    "        \"conv5_1\" : 1.0\n",
    "    }\n",
    "\n",
    "def model_activations(input,model):\n",
    "    features = {}\n",
    "    for name,layer in model._modules.items():\n",
    "        input=layer(input) # Quite an ingenious line of code! Continues to forward in the modules giving the effect of [:name]\n",
    "        if name in layers:\n",
    "            features[layers[name]] = input\n",
    "    return features"
   ]
  },
  {
   "cell_type": "code",
   "execution_count": 270,
   "metadata": {
    "colab": {},
    "colab_type": "code",
    "executionInfo": {
     "elapsed": 3276,
     "status": "ok",
     "timestamp": 1592492241105,
     "user": {
      "displayName": "Pankaj Meghani",
      "photoUrl": "",
      "userId": "07472269631754317086"
     },
     "user_tz": -330
    },
    "id": "AY1dZdpmccCz"
   },
   "outputs": [],
   "source": [
    "def content_loss(content_features, target_features):\n",
    "    loc='conv4_2'\n",
    "    return nn.functional.mse_loss(content_features[loc], target_features[loc])\n",
    "\n",
    "def gram_matrix(matrix):\n",
    "    k,dimensions,height,width = matrix.size()\n",
    "    matrix = matrix.view(k*dimensions, height*width)\n",
    "    return torch.mm(matrix,matrix.t())\n",
    "\n",
    "def style_loss(style_features, target_features, model):\n",
    "    style_loss = 0\n",
    "    for layer in style_weights:\n",
    "        _,d,w,h = target_features[layer].shape\n",
    "        target_gram=gram_matrix(target_features[layer])\n",
    "        style_gram=gram_matrix(style_features[layer])\n",
    "\n",
    "        style_loss += (style_weights[layer]*nn.functional.mse_loss(target_gram, style_gram))/d*w*h\n",
    "    return style_loss\n",
    "\n",
    "def total_loss(content_features, style_features, content_weight, style_weight, target_features, model):\n",
    "    return content_weight * content_loss(content_features, target_features) + \\\n",
    "            style_weight * style_loss(style_features, target_features, model)"
   ]
  },
  {
   "cell_type": "code",
   "execution_count": 286,
   "metadata": {
    "colab": {},
    "colab_type": "code",
    "executionInfo": {
     "elapsed": 1602,
     "status": "ok",
     "timestamp": 1592492545516,
     "user": {
      "displayName": "Pankaj Meghani",
      "photoUrl": "",
      "userId": "07472269631754317086"
     },
     "user_tz": -330
    },
    "id": "-IOOkjA8ckp-"
   },
   "outputs": [],
   "source": [
    "target_image = content_image.clone().requires_grad_(True).to(device)\n",
    "\n",
    "content_weight=1\n",
    "style_weight=1e7\n",
    "lr=0.1\n",
    "\n",
    "epochs=500\n",
    "optimizer=torch.optim.Adam([target_image], lr)\n",
    "\n",
    "save_epochs=100\n",
    "\n",
    "content_features=model_activations(content_image, model)\n",
    "style_features=model_activations(style_image, model)"
   ]
  },
  {
   "cell_type": "code",
   "execution_count": null,
   "metadata": {
    "colab": {
     "base_uri": "https://localhost:8080/",
     "height": 68,
     "referenced_widgets": [
      "56b544f59b804fe4959793ad2eda58bb",
      "593127398dbe4f22bfc024b326b3b961",
      "43e6c86aa6e041f5ab63cd5165608146",
      "bb6ab209432e44afa482fd027a9a5fe2",
      "51e6a8190122494abdca0ec202538f16",
      "e97c7f641dbb4d9082e6d2d0ad0fa493",
      "715b8285d534449a9191e8d4260424fb",
      "16af62db873740b7b38af8d59817f97b"
     ]
    },
    "colab_type": "code",
    "executionInfo": {
     "elapsed": 57207,
     "status": "ok",
     "timestamp": 1592492601130,
     "user": {
      "displayName": "Pankaj Meghani",
      "photoUrl": "",
      "userId": "07472269631754317086"
     },
     "user_tz": -330
    },
    "id": "CJClFku6cf6W",
    "outputId": "f61d556d-5235-429e-e532-f0079844c8f2"
   },
   "outputs": [],
   "source": [
    "losses=[]\n",
    "\n",
    "img_save=[]\n",
    "\n",
    "for i in tqdm(range(epochs)):\n",
    "    target_features=model_activations(target_image, model)\n",
    "    \n",
    "    loss=total_loss(\n",
    "        content_features, style_features, content_weight, style_weight,\n",
    "        target_features, model\n",
    "    )\n",
    "    loss.backward()\n",
    "    optimizer.step()\n",
    "    optimizer.zero_grad()\n",
    "\n",
    "    if  (i%save_epochs==0):\n",
    "        img_save.append(target_image.detach().clone())\n",
    "\n",
    "    losses.append(loss)"
   ]
  },
  {
   "cell_type": "code",
   "execution_count": 288,
   "metadata": {
    "colab": {},
    "colab_type": "code",
    "executionInfo": {
     "elapsed": 57204,
     "status": "ok",
     "timestamp": 1592492601135,
     "user": {
      "displayName": "Pankaj Meghani",
      "photoUrl": "",
      "userId": "07472269631754317086"
     },
     "user_tz": -330
    },
    "id": "mNPYGxpwWWSo"
   },
   "outputs": [],
   "source": [
    "for img_dat in img_save:\n",
    "    plt.figure()\n",
    "    plt.imshow(image_viewer(img_dat))\n",
    "plt.show()"
   ]
  },
  {
   "cell_type": "code",
   "execution_count": null,
   "metadata": {
    "colab": {
     "base_uri": "https://localhost:8080/",
     "height": 819
    },
    "colab_type": "code",
    "executionInfo": {
     "elapsed": 60837,
     "status": "ok",
     "timestamp": 1592492604775,
     "user": {
      "displayName": "Pankaj Meghani",
      "photoUrl": "",
      "userId": "07472269631754317086"
     },
     "user_tz": -330
    },
    "id": "J3yVbp4omTKF",
    "outputId": "68d1a39b-505c-4033-f20c-45df09a5ed17"
   },
   "outputs": [],
   "source": [
    "def image_viewer(image):\n",
    "    x = image.to(\"cpu\").clone().detach().squeeze(0)\n",
    "    x = x.numpy().transpose(1,2,0)\n",
    "    x = x*np.array((0.5,0.5,0.5)) + np.array((0.5,0.5,0.5))\n",
    "    # x=transforms.ToPILImage()(x)    \n",
    "    return x\n",
    "\n",
    "fig, (ax1,ax2) = plt.subplots(1,2)\n",
    "ax1.imshow(image_viewer(content_image),label = \"Content\")\n",
    "ax2.imshow(image_viewer(style_image),label = \"Style\")\n",
    "plt.show()\n",
    "\n",
    "plt.figure(figsize=(20,10))\n",
    "plt.imshow(image_viewer(target_image))\n",
    "# plt.title('Target')\n",
    "plt.axis('off')\n",
    "plt.show()"
   ]
  },
  {
   "cell_type": "code",
   "execution_count": 290,
   "metadata": {
    "colab": {
     "base_uri": "https://localhost:8080/",
     "height": 295
    },
    "colab_type": "code",
    "executionInfo": {
     "elapsed": 60834,
     "status": "ok",
     "timestamp": 1592492604779,
     "user": {
      "displayName": "Pankaj Meghani",
      "photoUrl": "",
      "userId": "07472269631754317086"
     },
     "user_tz": -330
    },
    "id": "KuO7dwPMfPCg",
    "outputId": "dc6eefb5-dc1c-424a-c38f-1077a46a0dc6"
   },
   "outputs": [
    {
     "data": {
      "text/plain": [
       "[<matplotlib.lines.Line2D at 0x7fe031581550>]"
      ]
     },
     "execution_count": 290,
     "metadata": {
      "tags": []
     },
     "output_type": "execute_result"
    },
    {
     "data": {
      "image/png": "[encoded data removed]",
      "text/plain": [
       "<Figure size 432x288 with 1 Axes>"
      ]
     },
     "metadata": {
      "needs_background": "light",
      "tags": []
     },
     "output_type": "display_data"
    }
   ],
   "source": [
    "plt.plot(np.arange(len(losses)), losses)"
   ]
  }
 ],
 "metadata": {
  "accelerator": "GPU",
  "colab": {
   "authorship_tag": "ABX9TyMQ88y5N350Y87rOxI1VPKm",
   "collapsed_sections": [],
   "mount_file_id": "1LKImzLfe-jquHfZebDu397CrmebGT18Z",
   "name": "Functional Implementation (Success).ipynb",
   "provenance": []
  },
  "kernelspec": {
   "display_name": "Python 3",
   "language": "python",
   "name": "python3"
  },
  "language_info": {
   "codemirror_mode": {
    "name": "ipython",
    "version": 3
   },
   "file_extension": ".py",
   "mimetype": "text/x-python",
   "name": "python",
   "nbconvert_exporter": "python",
   "pygments_lexer": "ipython3",
   "version": "3.6.9"
  },
  "widgets": {
   "application/vnd.jupyter.widget-state+json": {
    "16af62db873740b7b38af8d59817f97b": {
     "model_module": "@jupyter-widgets/base",
     "model_name": "LayoutModel",
     "state": {
      "_model_module": "@jupyter-widgets/base",
      "_model_module_version": "1.2.0",
      "_model_name": "LayoutModel",
      "_view_count": null,
      "_view_module": "@jupyter-widgets/base",
      "_view_module_version": "1.2.0",
      "_view_name": "LayoutView",
      "align_content": null,
      "align_items": null,
      "align_self": null,
      "border": null,
      "bottom": null,
      "display": null,
      "flex": null,
      "flex_flow": null,
      "grid_area": null,
      "grid_auto_columns": null,
      "grid_auto_flow": null,
      "grid_auto_rows": null,
      "grid_column": null,
      "grid_gap": null,
      "grid_row": null,
      "grid_template_areas": null,
      "grid_template_columns": null,
      "grid_template_rows": null,
      "height": null,
      "justify_content": null,
      "justify_items": null,
      "left": null,
      "margin": null,
      "max_height": null,
      "max_width": null,
      "min_height": null,
      "min_width": null,
      "object_fit": null,
      "object_position": null,
      "order": null,
      "overflow": null,
      "overflow_x": null,
      "overflow_y": null,
      "padding": null,
      "right": null,
      "top": null,
      "visibility": null,
      "width": null
     }
    },
    "43e6c86aa6e041f5ab63cd5165608146": {
     "model_module": "@jupyter-widgets/controls",
     "model_name": "FloatProgressModel",
     "state": {
      "_dom_classes": [],
      "_model_module": "@jupyter-widgets/controls",
      "_model_module_version": "1.5.0",
      "_model_name": "FloatProgressModel",
      "_view_count": null,
      "_view_module": "@jupyter-widgets/controls",
      "_view_module_version": "1.5.0",
      "_view_name": "ProgressView",
      "bar_style": "success",
      "description": "100%",
      "description_tooltip": null,
      "layout": "IPY_MODEL_e97c7f641dbb4d9082e6d2d0ad0fa493",
      "max": 500,
      "min": 0,
      "orientation": "horizontal",
      "style": "IPY_MODEL_51e6a8190122494abdca0ec202538f16",
      "value": 500
     }
    },
    "51e6a8190122494abdca0ec202538f16": {
     "model_module": "@jupyter-widgets/controls",
     "model_name": "ProgressStyleModel",
     "state": {
      "_model_module": "@jupyter-widgets/controls",
      "_model_module_version": "1.5.0",
      "_model_name": "ProgressStyleModel",
      "_view_count": null,
      "_view_module": "@jupyter-widgets/base",
      "_view_module_version": "1.2.0",
      "_view_name": "StyleView",
      "bar_color": null,
      "description_width": "initial"
     }
    },
    "56b544f59b804fe4959793ad2eda58bb": {
     "model_module": "@jupyter-widgets/controls",
     "model_name": "HBoxModel",
     "state": {
      "_dom_classes": [],
      "_model_module": "@jupyter-widgets/controls",
      "_model_module_version": "1.5.0",
      "_model_name": "HBoxModel",
      "_view_count": null,
      "_view_module": "@jupyter-widgets/controls",
      "_view_module_version": "1.5.0",
      "_view_name": "HBoxView",
      "box_style": "",
      "children": [
       "IPY_MODEL_43e6c86aa6e041f5ab63cd5165608146",
       "IPY_MODEL_bb6ab209432e44afa482fd027a9a5fe2"
      ],
      "layout": "IPY_MODEL_593127398dbe4f22bfc024b326b3b961"
     }
    },
    "593127398dbe4f22bfc024b326b3b961": {
     "model_module": "@jupyter-widgets/base",
     "model_name": "LayoutModel",
     "state": {
      "_model_module": "@jupyter-widgets/base",
      "_model_module_version": "1.2.0",
      "_model_name": "LayoutModel",
      "_view_count": null,
      "_view_module": "@jupyter-widgets/base",
      "_view_module_version": "1.2.0",
      "_view_name": "LayoutView",
      "align_content": null,
      "align_items": null,
      "align_self": null,
      "border": null,
      "bottom": null,
      "display": null,
      "flex": null,
      "flex_flow": null,
      "grid_area": null,
      "grid_auto_columns": null,
      "grid_auto_flow": null,
      "grid_auto_rows": null,
      "grid_column": null,
      "grid_gap": null,
      "grid_row": null,
      "grid_template_areas": null,
      "grid_template_columns": null,
      "grid_template_rows": null,
      "height": null,
      "justify_content": null,
      "justify_items": null,
      "left": null,
      "margin": null,
      "max_height": null,
      "max_width": null,
      "min_height": null,
      "min_width": null,
      "object_fit": null,
      "object_position": null,
      "order": null,
      "overflow": null,
      "overflow_x": null,
      "overflow_y": null,
      "padding": null,
      "right": null,
      "top": null,
      "visibility": null,
      "width": null
     }
    },
    "715b8285d534449a9191e8d4260424fb": {
     "model_module": "@jupyter-widgets/controls",
     "model_name": "DescriptionStyleModel",
     "state": {
      "_model_module": "@jupyter-widgets/controls",
      "_model_module_version": "1.5.0",
      "_model_name": "DescriptionStyleModel",
      "_view_count": null,
      "_view_module": "@jupyter-widgets/base",
      "_view_module_version": "1.2.0",
      "_view_name": "StyleView",
      "description_width": ""
     }
    },
    "bb6ab209432e44afa482fd027a9a5fe2": {
     "model_module": "@jupyter-widgets/controls",
     "model_name": "HTMLModel",
     "state": {
      "_dom_classes": [],
      "_model_module": "@jupyter-widgets/controls",
      "_model_module_version": "1.5.0",
      "_model_name": "HTMLModel",
      "_view_count": null,
      "_view_module": "@jupyter-widgets/controls",
      "_view_module_version": "1.5.0",
      "_view_name": "HTMLView",
      "description": "",
      "description_tooltip": null,
      "layout": "IPY_MODEL_16af62db873740b7b38af8d59817f97b",
      "placeholder": "​",
      "style": "IPY_MODEL_715b8285d534449a9191e8d4260424fb",
      "value": " 500/500 [00:55&lt;00:00,  9.07it/s]"
     }
    },
    "e97c7f641dbb4d9082e6d2d0ad0fa493": {
     "model_module": "@jupyter-widgets/base",
     "model_name": "LayoutModel",
     "state": {
      "_model_module": "@jupyter-widgets/base",
      "_model_module_version": "1.2.0",
      "_model_name": "LayoutModel",
      "_view_count": null,
      "_view_module": "@jupyter-widgets/base",
      "_view_module_version": "1.2.0",
      "_view_name": "LayoutView",
      "align_content": null,
      "align_items": null,
      "align_self": null,
      "border": null,
      "bottom": null,
      "display": null,
      "flex": null,
      "flex_flow": null,
      "grid_area": null,
      "grid_auto_columns": null,
      "grid_auto_flow": null,
      "grid_auto_rows": null,
      "grid_column": null,
      "grid_gap": null,
      "grid_row": null,
      "grid_template_areas": null,
      "grid_template_columns": null,
      "grid_template_rows": null,
      "height": null,
      "justify_content": null,
      "justify_items": null,
      "left": null,
      "margin": null,
      "max_height": null,
      "max_width": null,
      "min_height": null,
      "min_width": null,
      "object_fit": null,
      "object_position": null,
      "order": null,
      "overflow": null,
      "overflow_x": null,
      "overflow_y": null,
      "padding": null,
      "right": null,
      "top": null,
      "visibility": null,
      "width": null
     }
    }
   }
  }
 },
 "nbformat": 4,
 "nbformat_minor": 4
}
